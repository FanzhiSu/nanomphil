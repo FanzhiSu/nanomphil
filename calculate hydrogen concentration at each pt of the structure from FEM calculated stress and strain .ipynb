{
 "cells": [
  {
   "cell_type": "code",
   "execution_count": 29,
   "metadata": {},
   "outputs": [],
   "source": [
    "import numpy as np  \n",
    "import matplotlib.pyplot as plt\n",
    "import pandas as pd"
   ]
  },
  {
   "cell_type": "code",
   "execution_count": 30,
   "metadata": {},
   "outputs": [],
   "source": [
    "alpha=np.loadtxt('beta_centre_alpha.txt')\n",
    "sigma_alpha=alpha[:,1:4]\n",
    "epsilon_alpha=alpha[:,4]\n",
    "beta=np.loadtxt('beta_centre_beta.txt')\n",
    "sigma_beta=beta[:,1:4]\n",
    "epsilon_beta=beta[:,4]"
   ]
  },
  {
   "cell_type": "code",
   "execution_count": 31,
   "metadata": {},
   "outputs": [],
   "source": [
    "sigma_sum_alpha=[]\n",
    "sigma_sum_beta=[]\n",
    "for i in range(0,len(sigma_alpha)):\n",
    "    sigma_sum_alpha.append((sigma_alpha[i,0]+sigma_alpha[i,1]+sigma_alpha[i,2])*1000000)\n",
    "for i in range(0,len(sigma_beta)):\n",
    "    sigma_sum_beta.append((sigma_beta[i,0]+sigma_beta[i,1]+sigma_beta[i,2])*1000000)"
   ]
  },
  {
   "cell_type": "code",
   "execution_count": 32,
   "metadata": {},
   "outputs": [],
   "source": [
    "# sigma_sum_alpha=((8.690436184056155*10**2)-(1.615244955132313*10**-2)+(1.696830546211939*10**-2))*1000000\n",
    "# epsilon_alpha=1.467577394557736*10**-2\n",
    "# sigma_sum_beta=0\n",
    "# epsilon_beta=0"
   ]
  },
  {
   "cell_type": "code",
   "execution_count": 33,
   "metadata": {},
   "outputs": [],
   "source": [
    "R=8.31\n",
    "T=300\n",
    "W1=24000\n",
    "\n",
    "b1= 2.951*10**-10 #alpha\n",
    "b2=(np.sqrt(3)*3.282*10**-10)/2 #beta\n",
    "\n",
    "\n",
    "V=1.6*(10**-6)\n",
    "theta_L0=1*10**-6"
   ]
  },
  {
   "cell_type": "code",
   "execution_count": 34,
   "metadata": {},
   "outputs": [],
   "source": [
    "Rho_alpha=np.add(1.17*10**14, np.multiply(1.8*10**15,epsilon_alpha))\n",
    "Rho_beta=np.add(2.45*10**14, np.multiply(1.8*10**15,epsilon_beta))"
   ]
  },
  {
   "cell_type": "code",
   "execution_count": 35,
   "metadata": {},
   "outputs": [],
   "source": [
    "KL_alpha= np.exp(np.divide(np.multiply(sigma_sum_alpha,V),(3*R*T)))\n",
    "KL_beta= np.exp(np.divide(np.multiply(sigma_sum_beta,V),(3*R*T)))"
   ]
  },
  {
   "cell_type": "code",
   "execution_count": 36,
   "metadata": {},
   "outputs": [],
   "source": [
    "KT=np.exp(W1/(R*T))"
   ]
  },
  {
   "cell_type": "code",
   "execution_count": 37,
   "metadata": {},
   "outputs": [],
   "source": [
    "NT_alpha=np.divide(Rho_alpha,b1)\n",
    "NT_beta=np.divide(Rho_beta,b2)"
   ]
  },
  {
   "cell_type": "code",
   "execution_count": 38,
   "metadata": {},
   "outputs": [],
   "source": [
    "NL= 6.0232*10**23 / (10.621*10**-6)"
   ]
  },
  {
   "cell_type": "code",
   "execution_count": 39,
   "metadata": {},
   "outputs": [
    {
     "name": "stdout",
     "output_type": "stream",
     "text": [
      "[1.48869715e-06 1.55942752e-06 1.46261019e-06 ... 1.33338470e-06\n",
      " 1.36486989e-06 1.35172705e-06]\n",
      "1.3653341941999667e-06\n",
      "13824\n"
     ]
    }
   ],
   "source": [
    "theta_L_alpha= np.divide(np.multiply(theta_L0,KL_alpha),np.add(np.subtract(1,theta_L0),np.multiply(theta_L0,KL_alpha)))\n",
    "theta_TL_alpha=np.multiply(np.divide(NT_alpha,NL),np.divide(np.multiply(theta_L_alpha,KT),np.subtract(np.add(1,np.multiply(theta_L_alpha,KT)),\n",
    "                                                                                                       theta_L_alpha)))\n",
    "\n",
    "theta_L_beta= np.divide(np.multiply(theta_L0,KL_beta),np.add(np.subtract(1,theta_L0),np.multiply(theta_L0,KL_beta)))\n",
    "theta_TL_beta=np.multiply(np.divide(NT_beta,NL),np.divide(np.multiply(theta_L_beta,KT),np.subtract(np.add(1,np.multiply(theta_L_beta,KT)),\n",
    "                                                                                                       theta_L_beta)))\n",
    "\n",
    "\n",
    "\n",
    "c_alpha=np.add(theta_L_alpha, theta_TL_alpha)\n",
    "c_beta=np.add(theta_L_beta, theta_TL_beta)\n",
    "\n",
    "\n",
    "comb = np.append(c_beta,c_alpha)\n",
    "\n",
    "\n",
    "print(comb)\n",
    "print(np.mean(comb))\n",
    "print(len(comb))"
   ]
  },
  {
   "cell_type": "code",
   "execution_count": 40,
   "metadata": {},
   "outputs": [],
   "source": [
    "# dataset=pd.DataFrame({'hydrogen concentration':comb[:]})\n",
    "# dataset=dataset.multiply(10**6)"
   ]
  },
  {
   "cell_type": "code",
   "execution_count": 41,
   "metadata": {},
   "outputs": [],
   "source": [
    "# c_alpha"
   ]
  },
  {
   "cell_type": "code",
   "execution_count": 42,
   "metadata": {},
   "outputs": [],
   "source": [
    "# dataset=pd.DataFrame({'hydrogen concentration':c_alpha})\n",
    "# dataset=dataset.multiply(10**6)\n",
    "# dataset.to_csv(r'/home/clark/Desktop/beta_centre_alpha.csv', index = False)"
   ]
  },
  {
   "cell_type": "code",
   "execution_count": null,
   "metadata": {},
   "outputs": [],
   "source": []
  }
 ],
 "metadata": {
  "kernelspec": {
   "display_name": "Python 3",
   "language": "python",
   "name": "python3"
  },
  "language_info": {
   "codemirror_mode": {
    "name": "ipython",
    "version": 3
   },
   "file_extension": ".py",
   "mimetype": "text/x-python",
   "name": "python",
   "nbconvert_exporter": "python",
   "pygments_lexer": "ipython3",
   "version": "3.8.3"
  }
 },
 "nbformat": 4,
 "nbformat_minor": 4
}
