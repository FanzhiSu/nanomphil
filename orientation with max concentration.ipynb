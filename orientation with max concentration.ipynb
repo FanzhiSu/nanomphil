{
 "cells": [
  {
   "cell_type": "code",
   "execution_count": 20,
   "metadata": {},
   "outputs": [],
   "source": [
    "import numpy as np  \n",
    "import matplotlib.pyplot as plt\n",
    "data_ori=np.loadtxt('/home/clark/Desktop/data explore/eular angle/beta_orientations.txt')"
   ]
  },
  {
   "cell_type": "markdown",
   "metadata": {},
   "source": [
    "# max of the mean"
   ]
  },
  {
   "cell_type": "code",
   "execution_count": 27,
   "metadata": {},
   "outputs": [
    {
     "name": "stdout",
     "output_type": "stream",
     "text": [
      "1.3959737011614728\n",
      "(array([141]),)\n",
      "[[233.8771  71.5152 189.4676]]\n"
     ]
    }
   ],
   "source": [
    "data_mean_beta= np.loadtxt('/home/clark/Desktop/data explore/concentration 1000 orientation/beta_mean.txt')\n",
    "\n",
    "print(np.max(data_mean_beta))\n",
    "\n",
    "pos_beta=np.where(data_mean_beta == np.amax(data_mean_beta))\n",
    "print(pos_beta)\n",
    "\n",
    "print(data_ori[pos_beta])"
   ]
  },
  {
   "cell_type": "code",
   "execution_count": 28,
   "metadata": {},
   "outputs": [
    {
     "name": "stdout",
     "output_type": "stream",
     "text": [
      "1.3913096398520255\n",
      "(array([141]),)\n",
      "[[233.8771  71.5152 189.4676]]\n"
     ]
    }
   ],
   "source": [
    "data_mean_lam1= np.loadtxt('/home/clark/Desktop/data explore/concentration 1000 orientation/lam1_mean.txt')\n",
    "\n",
    "print(np.max(data_mean_lam1))\n",
    "\n",
    "pos_lam1=np.where(data_mean_lam1 == np.amax(data_mean_lam1))\n",
    "print(pos_lam1)\n",
    "\n",
    "print(data_ori[pos_lam1])"
   ]
  },
  {
   "cell_type": "code",
   "execution_count": 29,
   "metadata": {},
   "outputs": [
    {
     "name": "stdout",
     "output_type": "stream",
     "text": [
      "1.3931779643672526\n",
      "(array([141]),)\n",
      "[[233.8771  71.5152 189.4676]]\n"
     ]
    }
   ],
   "source": [
    "data_mean_lam2= np.loadtxt('/home/clark/Desktop/data explore/concentration 1000 orientation/lam2_mean.txt')\n",
    "\n",
    "print(np.max(data_mean_lam2))\n",
    "\n",
    "pos_lam2=np.where(data_mean_lam2 == np.amax(data_mean_lam2))\n",
    "print(pos_lam2)\n",
    "\n",
    "print(data_ori[pos_lam2])"
   ]
  },
  {
   "cell_type": "code",
   "execution_count": 31,
   "metadata": {},
   "outputs": [
    {
     "name": "stdout",
     "output_type": "stream",
     "text": [
      "1.394993656145421\n",
      "(array([141]),)\n",
      "[[233.8771  71.5152 189.4676]]\n"
     ]
    }
   ],
   "source": [
    "data_mean_lam3= np.loadtxt('/home/clark/Desktop/data explore/concentration 1000 orientation/lam3_mean.txt')\n",
    "\n",
    "print(np.max(data_mean_lam3))\n",
    "\n",
    "pos_lam3=np.where(data_mean_lam3 == np.amax(data_mean_lam3))\n",
    "print(pos_lam3)\n",
    "\n",
    "print(data_ori[pos_lam3])"
   ]
  },
  {
   "cell_type": "markdown",
   "metadata": {},
   "source": [
    "# highest possible value (max of the max)"
   ]
  },
  {
   "cell_type": "code",
   "execution_count": 33,
   "metadata": {},
   "outputs": [
    {
     "name": "stdout",
     "output_type": "stream",
     "text": [
      "2.2620151867\n",
      "(array([270]),)\n",
      "[[100.4058  35.8874  30.7628]]\n"
     ]
    }
   ],
   "source": [
    "data_max_beta=np.loadtxt('/home/clark/Desktop/data explore/concentration 1000 orientation/beta_max.txt')\n",
    "\n",
    "print(np.max(data_max_beta))\n",
    "\n",
    "pos_max_beta=np.where(data_max_beta== np.amax(data_max_beta))\n",
    "print(pos_max_beta)\n",
    "\n",
    "print(data_ori[pos_max_beta])"
   ]
  },
  {
   "cell_type": "code",
   "execution_count": 35,
   "metadata": {},
   "outputs": [
    {
     "name": "stdout",
     "output_type": "stream",
     "text": [
      "2.41425073\n",
      "(array([317]),)\n",
      "[[126.2267  74.9532 289.343 ]]\n"
     ]
    }
   ],
   "source": [
    "data_max_lam1=np.loadtxt('/home/clark/Desktop/data explore/concentration 1000 orientation/lam1_max.txt')\n",
    "\n",
    "print(np.max(data_max_lam1))\n",
    "\n",
    "pos_max_lam1=np.where(data_max_lam1== np.amax(data_max_lam1))\n",
    "print(pos_max_lam1)\n",
    "\n",
    "print(data_ori[pos_max_lam1])"
   ]
  },
  {
   "cell_type": "code",
   "execution_count": 36,
   "metadata": {},
   "outputs": [
    {
     "name": "stdout",
     "output_type": "stream",
     "text": [
      "2.3545999284\n",
      "(array([317]),)\n",
      "[[126.2267  74.9532 289.343 ]]\n"
     ]
    }
   ],
   "source": [
    "data_max_lam2=np.loadtxt('/home/clark/Desktop/data explore/concentration 1000 orientation/lam2_max.txt')\n",
    "\n",
    "print(np.max(data_max_lam2))\n",
    "\n",
    "pos_max_lam2=np.where(data_max_lam2== np.amax(data_max_lam2))\n",
    "print(pos_max_lam2)\n",
    "\n",
    "print(data_ori[pos_max_lam2])"
   ]
  },
  {
   "cell_type": "code",
   "execution_count": 37,
   "metadata": {},
   "outputs": [
    {
     "name": "stdout",
     "output_type": "stream",
     "text": [
      "2.3753752885\n",
      "(array([270]),)\n",
      "[[100.4058  35.8874  30.7628]]\n"
     ]
    }
   ],
   "source": [
    "data_max_lam3=np.loadtxt('/home/clark/Desktop/data explore/concentration 1000 orientation/lam3_max.txt')\n",
    "\n",
    "print(np.max(data_max_lam3))\n",
    "\n",
    "pos_max_lam3=np.where(data_max_lam3== np.amax(data_max_lam3))\n",
    "print(pos_max_lam3)\n",
    "\n",
    "print(data_ori[pos_max_lam3])"
   ]
  },
  {
   "cell_type": "code",
   "execution_count": null,
   "metadata": {},
   "outputs": [],
   "source": []
  }
 ],
 "metadata": {
  "kernelspec": {
   "display_name": "Python 3",
   "language": "python",
   "name": "python3"
  },
  "language_info": {
   "codemirror_mode": {
    "name": "ipython",
    "version": 3
   },
   "file_extension": ".py",
   "mimetype": "text/x-python",
   "name": "python",
   "nbconvert_exporter": "python",
   "pygments_lexer": "ipython3",
   "version": "3.8.3"
  }
 },
 "nbformat": 4,
 "nbformat_minor": 4
}
